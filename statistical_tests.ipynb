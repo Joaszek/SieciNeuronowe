{
 "cells": [
  {
   "cell_type": "code",
   "id": "initial_id",
   "metadata": {
    "collapsed": true,
    "ExecuteTime": {
     "end_time": "2025-09-12T12:37:00.884071Z",
     "start_time": "2025-09-12T12:37:00.872751Z"
    }
   },
   "source": [
    "import pandas as pd\n",
    "import numpy as np\n",
    "from scipy.stats import shapiro, friedmanchisquare, wilcoxon, levene\n",
    "from statsmodels.stats.anova import AnovaRM\n",
    "from statsmodels.stats.multitest import multipletests"
   ],
   "outputs": [],
   "execution_count": 15
  },
  {
   "metadata": {
    "ExecuteTime": {
     "end_time": "2025-09-12T13:09:55.765266Z",
     "start_time": "2025-09-12T13:09:55.728023Z"
    }
   },
   "cell_type": "code",
   "source": [
    "accuracy_df  = pd.read_csv(\"results\\\\acc_results.csv\")\n",
    "precision_df = pd.read_csv(\"results\\\\prec_results.csv\")\n",
    "recall_df    = pd.read_csv(\"results\\\\recall_results.csv\")\n",
    "f1_df        = pd.read_csv(\"results\\\\f1_results.csv\")\n",
    "acc_cnn      = pd.read_csv(\"results\\\\acc_results_cnn.csv\")\n",
    "\n",
    "metrics = {\"Accuracy\": accuracy_df,\n",
    "           \"Precision\": precision_df,\n",
    "           \"Recall\": recall_df,\n",
    "           \"F1\": f1_df}"
   ],
   "id": "4843e31355687adb",
   "outputs": [],
   "execution_count": 26
  },
  {
   "metadata": {
    "ExecuteTime": {
     "end_time": "2025-09-12T12:37:26.216972Z",
     "start_time": "2025-09-12T12:37:26.184316Z"
    }
   },
   "cell_type": "code",
   "source": [
    "def test_metrics(df, metric_name):\n",
    "    print(f\"\\n===== {metric_name} =====\")\n",
    "\n",
    "    cnn = df['wlasny'].values\n",
    "    resnet = df['resnet'].values\n",
    "    efficient = df['efficient'].values\n",
    "\n",
    "    # ===== sprawdzenie normalności rozkładu =====\n",
    "    print(\"Shapiro-Wilk test (normalność rozkładu)\")\n",
    "    normal_flags = []\n",
    "    for name, data in zip(['CNN','ResNet','EfficientNet'], [cnn,resnet,efficient]):\n",
    "        stat, p = shapiro(data)\n",
    "        normal = p > 0.05\n",
    "        normal_flags.append(normal)\n",
    "        print(f\"{name}: stat={stat:.4f}, p={p:.4f} -> {'normalny' if normal else 'nienormalny'}\")\n",
    "\n",
    "    # ===== sprawdzenie homogeniczności wariancji =====\n",
    "    stat, p = levene(cnn, resnet, efficient)\n",
    "    homo = p > 0.05\n",
    "    print(f\"\\nTest Levene’a: stat={stat:.4f}, p={p:.4f} -> {'jednorodne' if homo else 'niejednorodne'}\")\n",
    "\n",
    "    # ===== wybór testu =====\n",
    "    if all(normal_flags) and homo:\n",
    "        print(\"\\n>>> Wszystkie warunki spełnione -> ANOVA (parametryczny)\")\n",
    "        # ANOVA powtarzanych pomiarów wymaga formatu \"long\"\n",
    "        df = pd.DataFrame({\n",
    "            \"id\": np.tile(np.arange(len(cnn)), 3),\n",
    "            \"model\": np.repeat([\"CNN\",\"ResNet\",\"EfficientNet\"], len(cnn)),\n",
    "            \"score\": np.concatenate([cnn, resnet, efficient])\n",
    "        })\n",
    "        anova = AnovaRM(df, 'score', 'id', within=['model']).fit()\n",
    "        print(anova)\n",
    "    else:\n",
    "        print(\"\\n>>> Warunki niespełnione -> używamy testu Friedmana (nieparametryczny)\")\n",
    "        stat, p = friedmanchisquare(cnn, resnet, efficient)\n",
    "        print(f\"Friedman: stat={stat:.4f}, p={p:.4f}\")\n",
    "\n",
    "        print(\"\\nPost-hoc Wilcoxon (z poprawką Holm-Bonferroni):\")\n",
    "        pairs = [(\"CNN\", \"ResNet\", cnn, resnet),\n",
    "                 (\"CNN\", \"EfficientNet\", cnn, efficient),\n",
    "                 (\"ResNet\", \"EfficientNet\", resnet, efficient)]\n",
    "\n",
    "        # obliczamy p-value dla wszystkich par\n",
    "        labels = []\n",
    "        p_values = []\n",
    "        stats_list = []\n",
    "        for name1, name2, d1, d2 in pairs:\n",
    "            stat_w, p_val = wilcoxon(d1, d2)\n",
    "            labels.append(f\"{name1} vs {name2}\")\n",
    "            p_values.append(p_val)\n",
    "            stats_list.append(stat_w)\n",
    "\n",
    "        # korekta Holm-Bonferroni\n",
    "        rejected, p_corrected, _, _ = multipletests(p_values, method=\"holm\")\n",
    "\n",
    "        # raport wyników\n",
    "        for lbl, stat_w, p_raw, p_corr, rej in zip(labels, stats_list, p_values, p_corrected, rejected):\n",
    "            signif = \"istotna\" if rej else \"brak istotności\"\n",
    "            print(f\"{lbl}: stat={stat_w:.4f}, raw p={p_raw:.4f}, corrected p={p_corr:.4f} -> {signif}\")"
   ],
   "id": "3e6e7f677be76dc8",
   "outputs": [],
   "execution_count": 18
  },
  {
   "metadata": {
    "ExecuteTime": {
     "end_time": "2025-09-12T13:09:59.818041Z",
     "start_time": "2025-09-12T13:09:59.449225Z"
    }
   },
   "cell_type": "code",
   "source": [
    "for metric_name, df in metrics.items():\n",
    "    test_metrics(df, metric_name)"
   ],
   "id": "f27dd02949901b44",
   "outputs": [
    {
     "name": "stdout",
     "output_type": "stream",
     "text": [
      "\n",
      "===== Accuracy =====\n",
      "Shapiro-Wilk test (normalność rozkładu)\n",
      "CNN: stat=0.8559, p=0.2139 -> normalny\n",
      "ResNet: stat=0.9316, p=0.6071 -> normalny\n",
      "EfficientNet: stat=0.9556, p=0.7773 -> normalny\n",
      "\n",
      "Test Levene’a: stat=3.3308, p=0.0707 -> jednorodne\n",
      "\n",
      ">>> Wszystkie warunki spełnione -> ANOVA (parametryczny)\n",
      "              Anova\n",
      "==================================\n",
      "      F Value Num DF Den DF Pr > F\n",
      "----------------------------------\n",
      "model  0.8298 2.0000 8.0000 0.4705\n",
      "==================================\n",
      "\n",
      "\n",
      "===== Precision =====\n",
      "Shapiro-Wilk test (normalność rozkładu)\n",
      "CNN: stat=0.9000, p=0.4099 -> normalny\n",
      "ResNet: stat=0.5522, p=0.0001 -> nienormalny\n",
      "EfficientNet: stat=0.8423, p=0.1714 -> normalny\n",
      "\n",
      "Test Levene’a: stat=1.3800, p=0.2888 -> jednorodne\n",
      "\n",
      ">>> Warunki niespełnione -> używamy testu Friedmana (nieparametryczny)\n",
      "Friedman: stat=8.3158, p=0.0156\n",
      "\n",
      "Post-hoc Wilcoxon (z poprawką Holm-Bonferroni):\n",
      "CNN vs ResNet: stat=0.0000, raw p=0.0625, corrected p=0.1875 -> brak istotności\n",
      "CNN vs EfficientNet: stat=0.0000, raw p=0.0625, corrected p=0.1875 -> brak istotności\n",
      "ResNet vs EfficientNet: stat=1.0000, raw p=0.2500, corrected p=0.2500 -> brak istotności\n",
      "\n",
      "===== Recall =====\n",
      "Shapiro-Wilk test (normalność rozkładu)\n",
      "CNN: stat=0.8097, p=0.0969 -> normalny\n",
      "ResNet: stat=0.9020, p=0.4211 -> normalny\n",
      "EfficientNet: stat=0.9020, p=0.4211 -> normalny\n",
      "\n",
      "Test Levene’a: stat=5.0892, p=0.0251 -> niejednorodne\n",
      "\n",
      ">>> Warunki niespełnione -> używamy testu Friedmana (nieparametryczny)\n",
      "Friedman: stat=7.8947, p=0.0193\n",
      "\n",
      "Post-hoc Wilcoxon (z poprawką Holm-Bonferroni):\n",
      "CNN vs ResNet: stat=0.0000, raw p=0.0625, corrected p=0.1875 -> brak istotności\n",
      "CNN vs EfficientNet: stat=0.0000, raw p=0.0625, corrected p=0.1875 -> brak istotności\n",
      "ResNet vs EfficientNet: stat=5.0000, raw p=1.0000, corrected p=1.0000 -> brak istotności\n",
      "\n",
      "===== F1 =====\n",
      "Shapiro-Wilk test (normalność rozkładu)\n",
      "CNN: stat=0.9044, p=0.4348 -> normalny\n",
      "ResNet: stat=0.9076, p=0.4532 -> normalny\n",
      "EfficientNet: stat=0.9609, p=0.8140 -> normalny\n",
      "\n",
      "Test Levene’a: stat=5.7612, p=0.0176 -> niejednorodne\n",
      "\n",
      ">>> Warunki niespełnione -> używamy testu Friedmana (nieparametryczny)\n",
      "Friedman: stat=8.3158, p=0.0156\n",
      "\n",
      "Post-hoc Wilcoxon (z poprawką Holm-Bonferroni):\n",
      "CNN vs ResNet: stat=0.0000, raw p=0.0625, corrected p=0.1875 -> brak istotności\n",
      "CNN vs EfficientNet: stat=0.0000, raw p=0.0625, corrected p=0.1875 -> brak istotności\n",
      "ResNet vs EfficientNet: stat=1.5000, raw p=0.3750, corrected p=0.3750 -> brak istotności\n"
     ]
    }
   ],
   "execution_count": 27
  }
 ],
 "metadata": {
  "kernelspec": {
   "display_name": "Python 3",
   "language": "python",
   "name": "python3"
  },
  "language_info": {
   "codemirror_mode": {
    "name": "ipython",
    "version": 2
   },
   "file_extension": ".py",
   "mimetype": "text/x-python",
   "name": "python",
   "nbconvert_exporter": "python",
   "pygments_lexer": "ipython2",
   "version": "2.7.6"
  }
 },
 "nbformat": 4,
 "nbformat_minor": 5
}
